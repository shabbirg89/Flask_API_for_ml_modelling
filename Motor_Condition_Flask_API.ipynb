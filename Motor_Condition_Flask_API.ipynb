{
 "cells": [
  {
   "cell_type": "code",
   "execution_count": 3,
   "metadata": {},
   "outputs": [],
   "source": [
    "import numpy as np\n",
    "import pandas as pd\n",
    "import datetime as dt\n",
    "import matplotlib.pyplot as plt\n",
    "import seaborn as sns"
   ]
  },
  {
   "cell_type": "code",
   "execution_count": 4,
   "metadata": {},
   "outputs": [
    {
     "data": {
      "text/html": [
       "<div>\n",
       "<style scoped>\n",
       "    .dataframe tbody tr th:only-of-type {\n",
       "        vertical-align: middle;\n",
       "    }\n",
       "\n",
       "    .dataframe tbody tr th {\n",
       "        vertical-align: top;\n",
       "    }\n",
       "\n",
       "    .dataframe thead th {\n",
       "        text-align: right;\n",
       "    }\n",
       "</style>\n",
       "<table border=\"1\" class=\"dataframe\">\n",
       "  <thead>\n",
       "    <tr style=\"text-align: right;\">\n",
       "      <th></th>\n",
       "      <th>Temperature</th>\n",
       "      <th>X</th>\n",
       "      <th>Y</th>\n",
       "      <th>Motor_Condition</th>\n",
       "    </tr>\n",
       "  </thead>\n",
       "  <tbody>\n",
       "    <tr>\n",
       "      <th>0</th>\n",
       "      <td>39.472222</td>\n",
       "      <td>14.1197</td>\n",
       "      <td>15.8263</td>\n",
       "      <td>0.0</td>\n",
       "    </tr>\n",
       "    <tr>\n",
       "      <th>1</th>\n",
       "      <td>39.355556</td>\n",
       "      <td>14.2646</td>\n",
       "      <td>15.8263</td>\n",
       "      <td>0.0</td>\n",
       "    </tr>\n",
       "    <tr>\n",
       "      <th>2</th>\n",
       "      <td>39.377778</td>\n",
       "      <td>3.9284</td>\n",
       "      <td>14.9569</td>\n",
       "      <td>0.0</td>\n",
       "    </tr>\n",
       "    <tr>\n",
       "      <th>3</th>\n",
       "      <td>38.288889</td>\n",
       "      <td>14.1036</td>\n",
       "      <td>15.8263</td>\n",
       "      <td>0.0</td>\n",
       "    </tr>\n",
       "    <tr>\n",
       "      <th>4</th>\n",
       "      <td>38.755556</td>\n",
       "      <td>11.0446</td>\n",
       "      <td>15.8263</td>\n",
       "      <td>0.0</td>\n",
       "    </tr>\n",
       "  </tbody>\n",
       "</table>\n",
       "</div>"
      ],
      "text/plain": [
       "   Temperature        X        Y  Motor_Condition\n",
       "0    39.472222  14.1197  15.8263              0.0\n",
       "1    39.355556  14.2646  15.8263              0.0\n",
       "2    39.377778   3.9284  14.9569              0.0\n",
       "3    38.288889  14.1036  15.8263              0.0\n",
       "4    38.755556  11.0446  15.8263              0.0"
      ]
     },
     "execution_count": 4,
     "metadata": {},
     "output_type": "execute_result"
    }
   ],
   "source": [
    "data = pd.read_csv(\"motor1.csv\")\n",
    "data.head()"
   ]
  },
  {
   "cell_type": "code",
   "execution_count": 5,
   "metadata": {},
   "outputs": [
    {
     "data": {
      "text/plain": [
       "Index(['Temperature', 'X', 'Y', 'Motor_Condition'], dtype='object')"
      ]
     },
     "execution_count": 5,
     "metadata": {},
     "output_type": "execute_result"
    }
   ],
   "source": [
    "data.columns"
   ]
  },
  {
   "cell_type": "code",
   "execution_count": 6,
   "metadata": {},
   "outputs": [],
   "source": [
    "data = data.dropna(axis = 0, how ='any')"
   ]
  },
  {
   "cell_type": "code",
   "execution_count": 7,
   "metadata": {},
   "outputs": [
    {
     "data": {
      "text/plain": [
       "Temperature        0\n",
       "X                  0\n",
       "Y                  0\n",
       "Motor_Condition    0\n",
       "dtype: int64"
      ]
     },
     "execution_count": 7,
     "metadata": {},
     "output_type": "execute_result"
    }
   ],
   "source": [
    "data.isnull().sum()"
   ]
  },
  {
   "cell_type": "code",
   "execution_count": 8,
   "metadata": {},
   "outputs": [
    {
     "name": "stdout",
     "output_type": "stream",
     "text": [
      "[]\n",
      "['Temperature', 'X', 'Y', 'Motor_Condition']\n"
     ]
    }
   ],
   "source": [
    "cat_cols = data.select_dtypes(include=['object','category']).columns.tolist()\n",
    "print(cat_cols)\n",
    "\n",
    "num_cols = data.select_dtypes(include=['int64','float64']).columns.tolist()\n",
    "print(num_cols)"
   ]
  },
  {
   "cell_type": "code",
   "execution_count": 9,
   "metadata": {},
   "outputs": [],
   "source": [
    "#Take targate variable into y\n",
    "y = data['Motor_Condition']\n",
    "X = data.drop('Motor_Condition',axis = 1)"
   ]
  },
  {
   "cell_type": "code",
   "execution_count": 11,
   "metadata": {},
   "outputs": [
    {
     "data": {
      "text/plain": [
       "1.0"
      ]
     },
     "execution_count": 11,
     "metadata": {},
     "output_type": "execute_result"
    }
   ],
   "source": [
    "# model \n",
    "from sklearn.ensemble import RandomForestClassifier\n",
    "model = RandomForestClassifier(n_estimators=100)\n",
    "model.fit(X, y)\n",
    "model.score(X,y)"
   ]
  },
  {
   "cell_type": "code",
   "execution_count": 12,
   "metadata": {},
   "outputs": [],
   "source": [
    "import pickle\n",
    "pickle.dump(model, open('model.pkl', 'wb'))"
   ]
  },
  {
   "cell_type": "markdown",
   "metadata": {},
   "source": [
    "## Test Flask server"
   ]
  },
  {
   "cell_type": "code",
   "execution_count": 18,
   "metadata": {},
   "outputs": [
    {
     "data": {
      "text/plain": [
       "'{\"Temperature\": 39.355556, \"X\": 14.2646, \"Y\": 15.8263}'"
      ]
     },
     "execution_count": 18,
     "metadata": {},
     "output_type": "execute_result"
    }
   ],
   "source": [
    "# local url\n",
    "import json\n",
    "import requests\n",
    "url = 'http://127.0.0.1:5000'\n",
    "\n",
    "# test data\n",
    "data = {  'Temperature': 39.355556\n",
    "             , 'X': 14.2646\n",
    "             , 'Y': 15.8263}\n",
    "\n",
    "data = json.dumps(data)\n",
    "data"
   ]
  },
  {
   "cell_type": "code",
   "execution_count": 19,
   "metadata": {},
   "outputs": [
    {
     "name": "stdout",
     "output_type": "stream",
     "text": [
      "{'results': {'results': 0}}\n"
     ]
    }
   ],
   "source": [
    "send_request = requests.post(url, data)\n",
    "print(send_request.json())"
   ]
  },
  {
   "cell_type": "code",
   "execution_count": 25,
   "metadata": {},
   "outputs": [],
   "source": [
    "import pandas as pd\n",
    "import json"
   ]
  },
  {
   "cell_type": "code",
   "execution_count": 26,
   "metadata": {},
   "outputs": [],
   "source": [
    "data = pd.read_csv('test.csv')"
   ]
  },
  {
   "cell_type": "code",
   "execution_count": 27,
   "metadata": {},
   "outputs": [
    {
     "data": {
      "text/html": [
       "<div>\n",
       "<style scoped>\n",
       "    .dataframe tbody tr th:only-of-type {\n",
       "        vertical-align: middle;\n",
       "    }\n",
       "\n",
       "    .dataframe tbody tr th {\n",
       "        vertical-align: top;\n",
       "    }\n",
       "\n",
       "    .dataframe thead th {\n",
       "        text-align: right;\n",
       "    }\n",
       "</style>\n",
       "<table border=\"1\" class=\"dataframe\">\n",
       "  <thead>\n",
       "    <tr style=\"text-align: right;\">\n",
       "      <th></th>\n",
       "      <th>Temperature</th>\n",
       "      <th>X</th>\n",
       "      <th>Y</th>\n",
       "    </tr>\n",
       "  </thead>\n",
       "  <tbody>\n",
       "    <tr>\n",
       "      <th>0</th>\n",
       "      <td>39.472222</td>\n",
       "      <td>14.1197</td>\n",
       "      <td>15.8263</td>\n",
       "    </tr>\n",
       "    <tr>\n",
       "      <th>1</th>\n",
       "      <td>39.355556</td>\n",
       "      <td>14.2646</td>\n",
       "      <td>15.8263</td>\n",
       "    </tr>\n",
       "    <tr>\n",
       "      <th>2</th>\n",
       "      <td>39.377778</td>\n",
       "      <td>3.9284</td>\n",
       "      <td>14.9569</td>\n",
       "    </tr>\n",
       "    <tr>\n",
       "      <th>3</th>\n",
       "      <td>38.288889</td>\n",
       "      <td>14.1036</td>\n",
       "      <td>15.8263</td>\n",
       "    </tr>\n",
       "    <tr>\n",
       "      <th>4</th>\n",
       "      <td>23.144444</td>\n",
       "      <td>13.7494</td>\n",
       "      <td>2.6887</td>\n",
       "    </tr>\n",
       "  </tbody>\n",
       "</table>\n",
       "</div>"
      ],
      "text/plain": [
       "   Temperature        X        Y\n",
       "0    39.472222  14.1197  15.8263\n",
       "1    39.355556  14.2646  15.8263\n",
       "2    39.377778   3.9284  14.9569\n",
       "3    38.288889  14.1036  15.8263\n",
       "4    23.144444  13.7494   2.6887"
      ]
     },
     "execution_count": 27,
     "metadata": {},
     "output_type": "execute_result"
    }
   ],
   "source": [
    "data.head()"
   ]
  },
  {
   "cell_type": "code",
   "execution_count": 28,
   "metadata": {},
   "outputs": [
    {
     "name": "stdout",
     "output_type": "stream",
     "text": [
      "[{\"Temperature\":39.47222222,\"X\":14.1197,\"Y\":15.8263},{\"Temperature\":39.35555556,\"X\":14.2646,\"Y\":15.8263},{\"Temperature\":39.37777778,\"X\":3.9284,\"Y\":14.9569},{\"Temperature\":38.28888889,\"X\":14.1036,\"Y\":15.8263},{\"Temperature\":23.14444444,\"X\":13.7494,\"Y\":2.6887},{\"Temperature\":23.05555556,\"X\":13.9587,\"Y\":3.1395},{\"Temperature\":37.73333333,\"X\":12.3648,\"Y\":9.982},{\"Temperature\":23.16666667,\"X\":10.9158,\"Y\":4.0089},{\"Temperature\":23.27222222,\"X\":9.66,\"Y\":3.2039},{\"Temperature\":39.47222222,\"X\":14.1197,\"Y\":15.8263},{\"Temperature\":39.35555556,\"X\":14.2646,\"Y\":15.8263},{\"Temperature\":22.97777778,\"X\":10.9319,\"Y\":3.9123},{\"Temperature\":22.5,\"X\":9.3863,\"Y\":3.4293},{\"Temperature\":23.56666667,\"X\":6.2951,\"Y\":4.8783},{\"Temperature\":23.39444444,\"X\":5.3613,\"Y\":2.8497}]\n"
     ]
    }
   ],
   "source": [
    "json_records = data.to_json(orient ='records')\n",
    "print(json_records)\n",
    "json_records = json_records.replace(\"},\",\"}-\")\n",
    "json_records = json_records.replace(\"[\",\"\")\n",
    "json_records = json_records.replace(\"]\",\"\")\n",
    "\n",
    "list = json_records.split('-')"
   ]
  },
  {
   "cell_type": "code",
   "execution_count": 32,
   "metadata": {},
   "outputs": [
    {
     "name": "stdout",
     "output_type": "stream",
     "text": [
      "{'results': {'results': 0}}\n",
      "{'results': {'results': 0}}\n",
      "{'results': {'results': 0}}\n",
      "{'results': {'results': 0}}\n",
      "{'results': {'results': 1}}\n",
      "{'results': {'results': 1}}\n",
      "{'results': {'results': 0}}\n",
      "{'results': {'results': 1}}\n",
      "{'results': {'results': 1}}\n",
      "{'results': {'results': 0}}\n",
      "{'results': {'results': 0}}\n",
      "{'results': {'results': 1}}\n",
      "{'results': {'results': 1}}\n",
      "{'results': {'results': 1}}\n",
      "{'results': {'results': 1}}\n"
     ]
    }
   ],
   "source": [
    "for i in list:\n",
    "    response = requests.post(url, i)\n",
    "    print(response.json())"
   ]
  },
  {
   "cell_type": "code",
   "execution_count": null,
   "metadata": {},
   "outputs": [],
   "source": [
    "# heroku url\n",
    "heroku_url = 'https://titanic-flask-model.herokuapp.com' # change to your app name\n",
    "\n",
    "# test data\n",
    "data = {'Pclass': 3\n",
    "      , 'Age': 2\n",
    "      , 'SibSp': 1\n",
    "      , 'Fare': 50}\n",
    "\n",
    "data = json.dumps(data)\n",
    "data"
   ]
  },
  {
   "cell_type": "code",
   "execution_count": null,
   "metadata": {},
   "outputs": [],
   "source": [
    "# check response code\n",
    "r_survey = requests.post(heroku_url, data)\n",
    "print(r_survey)"
   ]
  }
 ],
 "metadata": {
  "kernelspec": {
   "display_name": "Python 3",
   "language": "python",
   "name": "python3"
  },
  "language_info": {
   "codemirror_mode": {
    "name": "ipython",
    "version": 3
   },
   "file_extension": ".py",
   "mimetype": "text/x-python",
   "name": "python",
   "nbconvert_exporter": "python",
   "pygments_lexer": "ipython3",
   "version": "3.8.2"
  }
 },
 "nbformat": 4,
 "nbformat_minor": 4
}
